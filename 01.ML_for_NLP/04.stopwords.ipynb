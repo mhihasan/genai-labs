{
 "cells": [
  {
   "metadata": {},
   "cell_type": "markdown",
   "source": "# Process of removing stopwords",
   "id": "723a2505d38bec94"
  },
  {
   "metadata": {
    "ExecuteTime": {
     "end_time": "2025-02-21T21:59:20.677651Z",
     "start_time": "2025-02-21T21:59:20.675997Z"
    }
   },
   "cell_type": "code",
   "source": "paragraph = \"The quick brown foxes were jumping over the lazy dogs. They had been running swiftly through the forest all day. However, the foxes didn't stop to rest because they were chasing their prey. Running is what foxes do best!\"",
   "id": "a0a96352ff0b6f6a",
   "outputs": [],
   "execution_count": 15
  },
  {
   "metadata": {
    "ExecuteTime": {
     "end_time": "2025-02-21T21:59:20.684780Z",
     "start_time": "2025-02-21T21:59:20.682115Z"
    }
   },
   "cell_type": "code",
   "source": [
    "import nltk\n",
    "nltk.download('stopwords')\n",
    "\n",
    "from nltk.stem import PorterStemmer\n",
    "from nltk.corpus import stopwords\n",
    "from nltk.tokenize import word_tokenize\n",
    "from functools import partial\n",
    "import string\n",
    "\n",
    "porter = PorterStemmer()\n",
    "stop_words = set(stopwords.words('english'))\n",
    "\n",
    "def remove_stopwords(paragraph, stemmer=None, lemmatizer=None):\n",
    "    words = word_tokenize(paragraph)\n",
    "    func = stemmer.stem if stemmer else partial(lemmatizer.lemmatize, pos='v')\n",
    "    words = [func(word) for word in words if word not in stop_words and word not in string.punctuation]\n",
    "    return ' '.join(words)"
   ],
   "id": "32027c46d6d9bcd3",
   "outputs": [
    {
     "name": "stderr",
     "output_type": "stream",
     "text": [
      "[nltk_data] Downloading package stopwords to /Users/hisl/nltk_data...\n",
      "[nltk_data]   Package stopwords is already up-to-date!\n"
     ]
    }
   ],
   "execution_count": 16
  },
  {
   "metadata": {},
   "cell_type": "markdown",
   "source": "# Remove stopwords using Porter Stemmer",
   "id": "d088d3dd0be45c9f"
  },
  {
   "metadata": {
    "ExecuteTime": {
     "end_time": "2025-02-21T21:59:20.696412Z",
     "start_time": "2025-02-21T21:59:20.694200Z"
    }
   },
   "cell_type": "code",
   "source": "remove_stopwords(paragraph, stemmer=porter)",
   "id": "7f862bb5f07c415d",
   "outputs": [
    {
     "data": {
      "text/plain": [
       "\"the quick brown fox jump lazi dog they run swiftli forest day howev fox n't stop rest chase prey run fox best\""
      ]
     },
     "execution_count": 17,
     "metadata": {},
     "output_type": "execute_result"
    }
   ],
   "execution_count": 17
  },
  {
   "metadata": {},
   "cell_type": "markdown",
   "source": "# Remove stopwords using Snowball Stemmer",
   "id": "4d83bb342287acc7"
  },
  {
   "metadata": {
    "ExecuteTime": {
     "end_time": "2025-02-21T21:59:20.710851Z",
     "start_time": "2025-02-21T21:59:20.708761Z"
    }
   },
   "cell_type": "code",
   "source": [
    "from nltk.stem import SnowballStemmer\n",
    "snowball = SnowballStemmer('english')\n",
    "remove_stopwords(paragraph, stemmer=snowball)"
   ],
   "id": "93c1f2be1b0fa46b",
   "outputs": [
    {
     "data": {
      "text/plain": [
       "\"the quick brown fox jump lazi dog they run swift forest day howev fox n't stop rest chase prey run fox best\""
      ]
     },
     "execution_count": 18,
     "metadata": {},
     "output_type": "execute_result"
    }
   ],
   "execution_count": 18
  },
  {
   "metadata": {},
   "cell_type": "markdown",
   "source": "# Remove stopwords using WordNet Lemmatizer",
   "id": "2729a289e8a31702"
  },
  {
   "metadata": {
    "ExecuteTime": {
     "end_time": "2025-02-21T21:59:20.720388Z",
     "start_time": "2025-02-21T21:59:20.718314Z"
    }
   },
   "cell_type": "code",
   "source": [
    "from nltk.stem import WordNetLemmatizer\n",
    "wordnet_lemmatizer = WordNetLemmatizer()\n",
    "remove_stopwords(paragraph, lemmatizer=wordnet_lemmatizer)"
   ],
   "id": "b944c6fd90afdeef",
   "outputs": [
    {
     "data": {
      "text/plain": [
       "\"The quick brown fox jump lazy dog They run swiftly forest day However fox n't stop rest chase prey Running fox best\""
      ]
     },
     "execution_count": 19,
     "metadata": {},
     "output_type": "execute_result"
    }
   ],
   "execution_count": 19
  }
 ],
 "metadata": {
  "kernelspec": {
   "display_name": "Python 3",
   "language": "python",
   "name": "python3"
  },
  "language_info": {
   "codemirror_mode": {
    "name": "ipython",
    "version": 2
   },
   "file_extension": ".py",
   "mimetype": "text/x-python",
   "name": "python",
   "nbconvert_exporter": "python",
   "pygments_lexer": "ipython2",
   "version": "2.7.6"
  }
 },
 "nbformat": 4,
 "nbformat_minor": 5
}
