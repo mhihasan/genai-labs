{
 "cells": [
  {
   "metadata": {},
   "cell_type": "markdown",
   "source": [
    "# Named Entity Recognition\n",
    "###  NER Categories in NLTK\n",
    "Category --- Example\n",
    "PERSON: Names of people (e.g., \"John\").\n",
    "ORGANIZATION: Names of organizations (e.g., \"Google\").\n",
    "GPE: Geopolitical entities like countries or cities (e.g., \"New York\").\n",
    "LOCATION: Non-GPE locations (e.g., \"Mount Everest\").\n",
    "DATE, MONEY, etc."
   ],
   "id": "98ed8218012b77e1"
  },
  {
   "metadata": {
    "ExecuteTime": {
     "end_time": "2025-02-24T21:40:28.869467Z",
     "start_time": "2025-02-24T21:40:28.864691Z"
    }
   },
   "cell_type": "code",
   "source": [
    "import nltk\n",
    "nltk.download('maxent_ne_chunker_tab')\n"
   ],
   "id": "f8569bd6bd6f4422",
   "outputs": [
    {
     "name": "stderr",
     "output_type": "stream",
     "text": [
      "[nltk_data] Downloading package maxent_ne_chunker_tab to\n",
      "[nltk_data]     /Users/hisl/nltk_data...\n",
      "[nltk_data]   Package maxent_ne_chunker_tab is already up-to-date!\n"
     ]
    },
    {
     "data": {
      "text/plain": [
       "True"
      ]
     },
     "execution_count": 4,
     "metadata": {},
     "output_type": "execute_result"
    }
   ],
   "execution_count": 4
  },
  {
   "metadata": {
    "ExecuteTime": {
     "end_time": "2025-02-24T21:40:29.005778Z",
     "start_time": "2025-02-24T21:40:28.886247Z"
    }
   },
   "cell_type": "code",
   "source": [
    "sentence = \"On January 15, 2023, Elon Musk announced that Tesla, Inc. would open a new factory in Berlin, Germany, investing $5 billion to produce electric vehicles.\"\n",
    "tokens = nltk.word_tokenize(sentence)\n",
    "pos_tags = nltk.pos_tag(tokens)\n",
    "named_entities = nltk.ne_chunk(pos_tags)\n",
    "print(named_entities)"
   ],
   "id": "37eb9101b9bafe67",
   "outputs": [
    {
     "name": "stdout",
     "output_type": "stream",
     "text": [
      "(S\n",
      "  On/IN\n",
      "  January/NNP\n",
      "  15/CD\n",
      "  ,/,\n",
      "  2023/CD\n",
      "  ,/,\n",
      "  (PERSON Elon/NNP Musk/NNP)\n",
      "  announced/VBD\n",
      "  that/IN\n",
      "  (PERSON Tesla/NNP)\n",
      "  ,/,\n",
      "  Inc./NNP\n",
      "  would/MD\n",
      "  open/VB\n",
      "  a/DT\n",
      "  new/JJ\n",
      "  factory/NN\n",
      "  in/IN\n",
      "  (GPE Berlin/NNP)\n",
      "  ,/,\n",
      "  (GPE Germany/NNP)\n",
      "  ,/,\n",
      "  investing/VBG\n",
      "  $/$\n",
      "  5/CD\n",
      "  billion/CD\n",
      "  to/TO\n",
      "  produce/VB\n",
      "  electric/JJ\n",
      "  vehicles/NNS\n",
      "  ./.)\n"
     ]
    }
   ],
   "execution_count": 5
  },
  {
   "metadata": {
    "ExecuteTime": {
     "end_time": "2025-02-24T21:42:34.518530Z",
     "start_time": "2025-02-24T21:40:29.066324Z"
    }
   },
   "cell_type": "code",
   "source": [
    "for chunk in named_entities:\n",
    "    if hasattr(chunk, 'label'):\n",
    "        print(chunk.label(), ' '.join(c[0] for c in chunk))\n",
    "\n",
    "# named_entities.draw()"
   ],
   "id": "b03e8eb907f71e47",
   "outputs": [
    {
     "name": "stdout",
     "output_type": "stream",
     "text": [
      "PERSON Elon Musk\n",
      "PERSON Tesla\n",
      "GPE Berlin\n",
      "GPE Germany\n"
     ]
    },
    {
     "name": "stderr",
     "output_type": "stream",
     "text": [
      "2025-02-24 16:40:44.300 python[45701:31823914] +[IMKClient subclass]: chose IMKClient_Modern\n",
      "2025-02-24 16:40:44.300 python[45701:31823914] +[IMKInputSession subclass]: chose IMKInputSession_Modern\n"
     ]
    }
   ],
   "execution_count": 6
  }
 ],
 "metadata": {
  "kernelspec": {
   "display_name": "Python 3",
   "language": "python",
   "name": "python3"
  },
  "language_info": {
   "codemirror_mode": {
    "name": "ipython",
    "version": 2
   },
   "file_extension": ".py",
   "mimetype": "text/x-python",
   "name": "python",
   "nbconvert_exporter": "python",
   "pygments_lexer": "ipython2",
   "version": "2.7.6"
  }
 },
 "nbformat": 4,
 "nbformat_minor": 5
}
