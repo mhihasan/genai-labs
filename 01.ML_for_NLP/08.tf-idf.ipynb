{
 "cells": [
  {
   "cell_type": "code",
   "execution_count": 6,
   "metadata": {},
   "outputs": [
    {
     "name": "stderr",
     "output_type": "stream",
     "text": [
      "[nltk_data] Downloading package punkt to /Users/hisl/nltk_data...\n",
      "[nltk_data]   Package punkt is already up-to-date!\n",
      "[nltk_data] Downloading package stopwords to /Users/hisl/nltk_data...\n",
      "[nltk_data]   Package stopwords is already up-to-date!\n"
     ]
    },
    {
     "data": {
      "text/plain": [
       "True"
      ]
     },
     "execution_count": 6,
     "metadata": {},
     "output_type": "execute_result"
    }
   ],
   "source": [
    "import nltk\n",
    "from nltk.corpus import stopwords\n",
    "from nltk.tokenize import word_tokenize\n",
    "from nltk.text import TextCollection\n",
    "import pandas as pd\n",
    "\n",
    "nltk.download('punkt')\n",
    "nltk.download('stopwords')"
   ]
  },
  {
   "cell_type": "code",
   "execution_count": 7,
   "metadata": {},
   "outputs": [],
   "source": [
    "corpus = [\n",
    "    \"TF-IDF is a technique for extracting features from text.\",\n",
    "    \"It is commonly used in natural language processing tasks.\",\n",
    "    \"NLTK provides tools for text processing and analysis.\"\n",
    "]\n",
    "\n",
    "# Tokenize and remove stopwords\n",
    "stop_words = set(stopwords.words('english'))\n",
    "tokenized_corpus = [\n",
    "    [word.lower() for word in word_tokenize(doc) if word.isalpha() and word.lower() not in stop_words]\n",
    "    for doc in corpus\n",
    "]\n"
   ]
  },
  {
   "cell_type": "code",
   "execution_count": 8,
   "metadata": {},
   "outputs": [
    {
     "name": "stdout",
     "output_type": "stream",
     "text": [
      "         Term    TF-IDF\n",
      "0   technique  0.274653\n",
      "1  extracting  0.274653\n",
      "2    features  0.274653\n",
      "3        text  0.101366\n"
     ]
    }
   ],
   "source": [
    "# Create TextCollection object\n",
    "text_collection = TextCollection(tokenized_corpus)\n",
    "\n",
    "# Calculate TF-IDF for each term in each document\n",
    "tfidf_scores = []\n",
    "for doc in tokenized_corpus:\n",
    "    doc_scores = []\n",
    "    for term in doc:\n",
    "        tfidf = text_collection.tf_idf(term, doc)\n",
    "        doc_scores.append((term, tfidf))\n",
    "    tfidf_scores.append(doc_scores)\n",
    "\n",
    "# Create a DataFrame to display the results\n",
    "df = pd.DataFrame(tfidf_scores[0], columns=['Term', 'TF-IDF'])\n",
    "df = df.sort_values('TF-IDF', ascending=False).reset_index(drop=True)\n",
    "print(df)\n"
   ]
  },
  {
   "cell_type": "code",
   "execution_count": 9,
   "metadata": {},
   "outputs": [],
   "source": [
    "from sklearn.feature_extraction.text import TfidfVectorizer\n",
    "\n",
    "vectorizer = TfidfVectorizer()\n",
    "tfidf_matrix = vectorizer.fit_transform(corpus)\n"
   ]
  },
  {
   "cell_type": "code",
   "execution_count": 10,
   "metadata": {},
   "outputs": [
    {
     "name": "stdout",
     "output_type": "stream",
     "text": [
      "[[1.         0.07281691 0.16026805]\n",
      " [0.07281691 1.         0.0780356 ]\n",
      " [0.16026805 0.0780356  1.        ]]\n"
     ]
    }
   ],
   "source": [
    "from sklearn.metrics.pairwise import cosine_similarity\n",
    "\n",
    "cosine_sim = cosine_similarity(tfidf_matrix, tfidf_matrix)\n",
    "print(cosine_sim)\n"
   ]
  },
  {
   "cell_type": "code",
   "execution_count": 11,
   "metadata": {},
   "outputs": [
    {
     "data": {
      "text/plain": [
       "['TF-IDF is a technique for extracting features from text.',\n",
       " 'It is commonly used in natural language processing tasks.',\n",
       " 'NLTK provides tools for text processing and analysis.']"
      ]
     },
     "execution_count": 11,
     "metadata": {},
     "output_type": "execute_result"
    }
   ],
   "source": [
    "corpus"
   ]
  },
  {
   "cell_type": "markdown",
   "metadata": {},
   "source": [
    "## Create TF-IDF And NGrams"
   ]
  },
  {
   "cell_type": "code",
   "execution_count": 12,
   "metadata": {},
   "outputs": [],
   "source": [
    "from sklearn.feature_extraction.text import TfidfVectorizer"
   ]
  },
  {
   "cell_type": "code",
   "execution_count": 13,
   "metadata": {},
   "outputs": [],
   "source": [
    "tfidf=TfidfVectorizer(max_features=100)\n",
    "X=tfidf.fit_transform(corpus).toarray()"
   ]
  },
  {
   "cell_type": "code",
   "execution_count": 14,
   "metadata": {},
   "outputs": [],
   "source": [
    "import numpy as np\n",
    "np.set_printoptions(edgeitems=30, linewidth=100000, \n",
    "    formatter=dict(float=lambda x: \"%.3g\" % x))"
   ]
  },
  {
   "cell_type": "code",
   "execution_count": 15,
   "metadata": {},
   "outputs": [
    {
     "data": {
      "text/plain": [
       "array([[0, 0, 0, 0.36, 0.36, 0.273, 0.36, 0.36, 0, 0.273, 0, 0, 0, 0, 0, 0, 0, 0.36, 0.273, 0.36, 0, 0],\n",
       "       [0, 0, 0.35, 0, 0, 0, 0, 0, 0.35, 0.266, 0.35, 0.35, 0.35, 0, 0.266, 0, 0.35, 0, 0, 0, 0, 0.35],\n",
       "       [0.385, 0.385, 0, 0, 0, 0.293, 0, 0, 0, 0, 0, 0, 0, 0.385, 0.293, 0.385, 0, 0, 0.293, 0, 0.385, 0]])"
      ]
     },
     "execution_count": 15,
     "metadata": {},
     "output_type": "execute_result"
    }
   ],
   "source": [
    "X"
   ]
  },
  {
   "cell_type": "markdown",
   "metadata": {},
   "source": [
    "### N-Grams"
   ]
  },
  {
   "cell_type": "code",
   "execution_count": 16,
   "metadata": {},
   "outputs": [],
   "source": [
    "tfidf=TfidfVectorizer(max_features=100,ngram_range=(2,2))\n",
    "X=tfidf.fit_transform(corpus).toarray()"
   ]
  },
  {
   "cell_type": "code",
   "execution_count": 17,
   "metadata": {},
   "outputs": [
    {
     "data": {
      "text/plain": [
       "{'tf idf': np.int64(20),\n",
       " 'idf is': np.int64(7),\n",
       " 'is technique': np.int64(10),\n",
       " 'technique for': np.int64(18),\n",
       " 'for extracting': np.int64(4),\n",
       " 'extracting features': np.int64(2),\n",
       " 'features from': np.int64(3),\n",
       " 'from text': np.int64(6),\n",
       " 'it is': np.int64(11),\n",
       " 'is commonly': np.int64(9),\n",
       " 'commonly used': np.int64(1),\n",
       " 'used in': np.int64(22),\n",
       " 'in natural': np.int64(8),\n",
       " 'natural language': np.int64(13),\n",
       " 'language processing': np.int64(12),\n",
       " 'processing tasks': np.int64(16),\n",
       " 'nltk provides': np.int64(14),\n",
       " 'provides tools': np.int64(17),\n",
       " 'tools for': np.int64(21),\n",
       " 'for text': np.int64(5),\n",
       " 'text processing': np.int64(19),\n",
       " 'processing and': np.int64(15),\n",
       " 'and analysis': np.int64(0)}"
      ]
     },
     "execution_count": 17,
     "metadata": {},
     "output_type": "execute_result"
    }
   ],
   "source": [
    "tfidf.vocabulary_"
   ]
  },
  {
   "cell_type": "code",
   "execution_count": 18,
   "metadata": {},
   "outputs": [
    {
     "data": {
      "text/plain": [
       "array([[0, 0, 0.354, 0.354, 0.354, 0, 0.354, 0.354, 0, 0, 0.354, 0, 0, 0, 0, 0, 0, 0, 0.354, 0, 0.354, 0, 0],\n",
       "       [0, 0.354, 0, 0, 0, 0, 0, 0, 0.354, 0.354, 0, 0.354, 0.354, 0.354, 0, 0, 0.354, 0, 0, 0, 0, 0, 0.354],\n",
       "       [0.378, 0, 0, 0, 0, 0.378, 0, 0, 0, 0, 0, 0, 0, 0, 0.378, 0.378, 0, 0.378, 0, 0.378, 0, 0.378, 0]])"
      ]
     },
     "execution_count": 18,
     "metadata": {},
     "output_type": "execute_result"
    }
   ],
   "source": [
    "X"
   ]
  },
  {
   "cell_type": "code",
   "execution_count": null,
   "metadata": {},
   "outputs": [],
   "source": []
  }
 ],
 "metadata": {
  "kernelspec": {
   "display_name": "Python 3 (ipykernel)",
   "language": "python",
   "name": "python3"
  },
  "language_info": {
   "codemirror_mode": {
    "name": "ipython",
    "version": 3
   },
   "file_extension": ".py",
   "mimetype": "text/x-python",
   "name": "python",
   "nbconvert_exporter": "python",
   "pygments_lexer": "ipython3",
   "version": "3.12.9"
  }
 },
 "nbformat": 4,
 "nbformat_minor": 4
}
