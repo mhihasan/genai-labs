{
 "cells": [
  {
   "metadata": {},
   "cell_type": "code",
   "outputs": [],
   "execution_count": null,
   "source": [
    "# Stemming\n",
    "## Advantages\n",
    "### 1. Fast\n",
    "### 2. Simple\n",
    "## Disadvantages\n",
    "### 1. not right form"
   ],
   "id": "e425be0ab87cfefa"
  },
  {
   "metadata": {},
   "cell_type": "code",
   "outputs": [],
   "execution_count": null,
   "source": [
    "### eating, eats, eaten, eatable => eat\n",
    "### study, studies, studying => study\n",
    "### go, goes, going, went => go\n",
    "### organization, organizations => organization\n",
    "words = ['eat', 'eats', 'eating', 'eaten', 'eatable', 'study', 'studies', 'studying', 'go', 'goes', 'going', 'went', 'organization', 'organizations']"
   ],
   "id": "f2720394c5dd3065"
  },
  {
   "metadata": {},
   "cell_type": "markdown",
   "source": "# Porter Stemmer",
   "id": "57a0cd3308acd5c4"
  },
  {
   "metadata": {
    "ExecuteTime": {
     "end_time": "2025-02-21T21:17:27.534619Z",
     "start_time": "2025-02-21T21:17:27.532134Z"
    }
   },
   "cell_type": "code",
   "source": [
    "from nltk.stem import PorterStemmer\n",
    "porter = PorterStemmer()\n",
    "for word in words:\n",
    "    print(f'{word} --> {porter.stem(word)}')"
   ],
   "id": "7206cab46c91753a",
   "outputs": [
    {
     "name": "stdout",
     "output_type": "stream",
     "text": [
      "eat --> eat\n",
      "eats --> eat\n",
      "eating --> eat\n",
      "eaten --> eaten\n",
      "eatable --> eatabl\n",
      "study --> studi\n",
      "studies --> studi\n",
      "studying --> studi\n",
      "go --> go\n",
      "goes --> goe\n",
      "going --> go\n",
      "went --> went\n",
      "organization --> organ\n",
      "organizations --> organ\n"
     ]
    }
   ],
   "execution_count": 3
  },
  {
   "metadata": {},
   "cell_type": "markdown",
   "source": "# Regexp Stemmer",
   "id": "f5d69a43d35410e2"
  },
  {
   "metadata": {
    "ExecuteTime": {
     "end_time": "2025-02-21T21:21:11.347360Z",
     "start_time": "2025-02-21T21:21:11.344451Z"
    }
   },
   "cell_type": "code",
   "source": [
    "from nltk.stem import RegexpStemmer\n",
    "regexp = RegexpStemmer('ing$|s$|able$')\n",
    "for word in words:\n",
    "    print(f'{word} --> {regexp.stem(word)}')"
   ],
   "id": "dc479ed9570e5f13",
   "outputs": [
    {
     "name": "stdout",
     "output_type": "stream",
     "text": [
      "eat --> eat\n",
      "eats --> eat\n",
      "eating --> eat\n",
      "eaten --> eaten\n",
      "eatable --> eat\n",
      "study --> study\n",
      "studies --> studie\n",
      "studying --> study\n",
      "go --> go\n",
      "goes --> goe\n",
      "going --> go\n",
      "went --> went\n",
      "organization --> organization\n",
      "organizations --> organization\n"
     ]
    }
   ],
   "execution_count": 5
  },
  {
   "metadata": {},
   "cell_type": "markdown",
   "source": "# Snowball Stemmer",
   "id": "8cfd9cd3476b4614"
  },
  {
   "metadata": {
    "ExecuteTime": {
     "end_time": "2025-02-21T21:22:46.092481Z",
     "start_time": "2025-02-21T21:22:46.089459Z"
    }
   },
   "cell_type": "code",
   "source": [
    "from nltk.stem import SnowballStemmer\n",
    "snowball = SnowballStemmer('english')\n",
    "for word in words:\n",
    "    print(f'{word} --> {snowball.stem(word)}')"
   ],
   "id": "ab848400c52729c5",
   "outputs": [
    {
     "name": "stdout",
     "output_type": "stream",
     "text": [
      "eat --> eat\n",
      "eats --> eat\n",
      "eating --> eat\n",
      "eaten --> eaten\n",
      "eatable --> eatabl\n",
      "study --> studi\n",
      "studies --> studi\n",
      "studying --> studi\n",
      "go --> go\n",
      "goes --> goe\n",
      "going --> go\n",
      "went --> went\n",
      "organization --> organ\n",
      "organizations --> organ\n"
     ]
    }
   ],
   "execution_count": 6
  },
  {
   "metadata": {
    "ExecuteTime": {
     "end_time": "2025-02-21T21:24:39.508307Z",
     "start_time": "2025-02-21T21:24:39.503318Z"
    }
   },
   "cell_type": "code",
   "source": [
    "# Snowball Stemmer is more accurate than Porter Stemmer\n",
    "porter.stem(\"fairly\"), snowball.stem(\"fairly\")"
   ],
   "id": "9170c97522b44e36",
   "outputs": [
    {
     "data": {
      "text/plain": [
       "('fairli', 'fair')"
      ]
     },
     "execution_count": 7,
     "metadata": {},
     "output_type": "execute_result"
    }
   ],
   "execution_count": 7
  }
 ],
 "metadata": {
  "kernelspec": {
   "display_name": "Python 3",
   "language": "python",
   "name": "python3"
  },
  "language_info": {
   "codemirror_mode": {
    "name": "ipython",
    "version": 2
   },
   "file_extension": ".py",
   "mimetype": "text/x-python",
   "name": "python",
   "nbconvert_exporter": "python",
   "pygments_lexer": "ipython2",
   "version": "2.7.6"
  }
 },
 "nbformat": 4,
 "nbformat_minor": 5
}
