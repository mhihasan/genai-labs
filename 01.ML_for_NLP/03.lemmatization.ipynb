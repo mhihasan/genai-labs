{
 "cells": [
  {
   "metadata": {},
   "cell_type": "markdown",
   "source": [
    "# Lemmatization\n",
    "### convert the word into its base form (lemma)"
   ],
   "id": "e920e2972a4dde73"
  },
  {
   "metadata": {},
   "cell_type": "markdown",
   "source": "## WordNet Lemmatizer",
   "id": "7711a8ca1bdc83a6"
  },
  {
   "metadata": {
    "ExecuteTime": {
     "end_time": "2025-02-21T21:29:48.947366Z",
     "start_time": "2025-02-21T21:29:39.686722Z"
    }
   },
   "cell_type": "code",
   "source": [
    "import nltk\n",
    "nltk.download('wordnet')\n",
    "from nltk.stem import WordNetLemmatizer\n",
    "wordnet_lemmatizer = WordNetLemmatizer()"
   ],
   "id": "5a5a7a3512f06730",
   "outputs": [
    {
     "name": "stderr",
     "output_type": "stream",
     "text": [
      "[nltk_data] Downloading package wordnet to /Users/hisl/nltk_data...\n"
     ]
    }
   ],
   "execution_count": 4
  },
  {
   "metadata": {
    "ExecuteTime": {
     "end_time": "2025-02-21T21:29:49.911347Z",
     "start_time": "2025-02-21T21:29:48.955552Z"
    }
   },
   "cell_type": "code",
   "source": "wordnet_lemmatizer.lemmatize('running', pos='v')",
   "id": "1c1bf4e000074343",
   "outputs": [
    {
     "data": {
      "text/plain": [
       "'run'"
      ]
     },
     "execution_count": 5,
     "metadata": {},
     "output_type": "execute_result"
    }
   ],
   "execution_count": 5
  },
  {
   "metadata": {},
   "cell_type": "markdown",
   "source": [
    "## Difference between Stemming and Lemmatization\n",
    "### Stemming is faster than Lemmatization"
   ],
   "id": "342962124f49a071"
  },
  {
   "metadata": {},
   "cell_type": "markdown",
   "source": "",
   "id": "4886910a168c5e50"
  }
 ],
 "metadata": {
  "kernelspec": {
   "display_name": "Python 3",
   "language": "python",
   "name": "python3"
  },
  "language_info": {
   "codemirror_mode": {
    "name": "ipython",
    "version": 2
   },
   "file_extension": ".py",
   "mimetype": "text/x-python",
   "name": "python",
   "nbconvert_exporter": "python",
   "pygments_lexer": "ipython2",
   "version": "2.7.6"
  }
 },
 "nbformat": 4,
 "nbformat_minor": 5
}
