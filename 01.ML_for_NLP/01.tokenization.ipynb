{
 "cells": [
  {
   "cell_type": "code",
   "id": "initial_id",
   "metadata": {
    "collapsed": true,
    "ExecuteTime": {
     "end_time": "2025-02-21T21:09:01.086077Z",
     "start_time": "2025-02-21T21:09:01.084005Z"
    }
   },
   "source": [
    "## Tokenization\n",
    "## Tokenization is the process of breaking down a text into words, phrases, symbols, or other meaningful elements.\n",
    "## Tokenization is the first step in text analytics.\n",
    "## The result of tokenization is called tokens.\n",
    "\n",
    "### word_tokenize\n",
    "### sent_tokenize\n",
    "### wordpunct_tokenize\n",
    "### TreebankWordTokenizer"
   ],
   "outputs": [],
   "execution_count": 28
  },
  {
   "metadata": {
    "ExecuteTime": {
     "end_time": "2025-02-21T21:09:01.098162Z",
     "start_time": "2025-02-21T21:09:01.095959Z"
    }
   },
   "cell_type": "code",
   "source": [
    "corpus = \"This a paragraph.  But, it is exciting! It is called corpus.\"\n",
    "print(corpus)"
   ],
   "id": "696c1252c37ca656",
   "outputs": [
    {
     "name": "stdout",
     "output_type": "stream",
     "text": [
      "This a paragraph.  But, it is exciting! It is called corpus.\n"
     ]
    }
   ],
   "execution_count": 29
  },
  {
   "metadata": {
    "ExecuteTime": {
     "end_time": "2025-02-21T21:09:01.113677Z",
     "start_time": "2025-02-21T21:09:01.111680Z"
    }
   },
   "cell_type": "code",
   "source": [
    "import nltk\n",
    "nltk.download('punkt_tab')"
   ],
   "id": "551ab0bbe826c90c",
   "outputs": [
    {
     "name": "stderr",
     "output_type": "stream",
     "text": [
      "[nltk_data] Downloading package punkt_tab to /Users/hisl/nltk_data...\n",
      "[nltk_data]   Package punkt_tab is already up-to-date!\n"
     ]
    },
    {
     "data": {
      "text/plain": [
       "True"
      ]
     },
     "execution_count": 30,
     "metadata": {},
     "output_type": "execute_result"
    }
   ],
   "execution_count": 30
  },
  {
   "metadata": {
    "ExecuteTime": {
     "end_time": "2025-02-21T21:09:01.122642Z",
     "start_time": "2025-02-21T21:09:01.120679Z"
    }
   },
   "cell_type": "code",
   "source": [
    "## Tokenization\n",
    "## paragraphs into sentences\n",
    "\n",
    "from nltk.tokenize import sent_tokenize\n",
    "sentences = sent_tokenize(corpus)\n",
    "sentences"
   ],
   "id": "2df0070009550a31",
   "outputs": [
    {
     "data": {
      "text/plain": [
       "['This a paragraph.', 'But, it is exciting!', 'It is called corpus.']"
      ]
     },
     "execution_count": 31,
     "metadata": {},
     "output_type": "execute_result"
    }
   ],
   "execution_count": 31
  },
  {
   "metadata": {
    "ExecuteTime": {
     "end_time": "2025-02-21T21:09:01.132596Z",
     "start_time": "2025-02-21T21:09:01.130602Z"
    }
   },
   "cell_type": "code",
   "source": [
    "## Tokenization\n",
    "## Paragraph --> words\n",
    "## Sentence --> words\n",
    "from nltk.tokenize import word_tokenize\n",
    "word_tokenize(corpus)"
   ],
   "id": "260aa15109f8e83",
   "outputs": [
    {
     "data": {
      "text/plain": [
       "['This',\n",
       " 'a',\n",
       " 'paragraph',\n",
       " '.',\n",
       " 'But',\n",
       " ',',\n",
       " 'it',\n",
       " 'is',\n",
       " 'exciting',\n",
       " '!',\n",
       " 'It',\n",
       " 'is',\n",
       " 'called',\n",
       " 'corpus',\n",
       " '.']"
      ]
     },
     "execution_count": 32,
     "metadata": {},
     "output_type": "execute_result"
    }
   ],
   "execution_count": 32
  },
  {
   "metadata": {
    "ExecuteTime": {
     "end_time": "2025-02-21T21:09:01.139815Z",
     "start_time": "2025-02-21T21:09:01.138360Z"
    }
   },
   "cell_type": "code",
   "source": [
    "for sentence in sentences:\n",
    "    print(word_tokenize(sentence))"
   ],
   "id": "1996345d5b460e79",
   "outputs": [
    {
     "name": "stdout",
     "output_type": "stream",
     "text": [
      "['This', 'a', 'paragraph', '.']\n",
      "['But', ',', 'it', 'is', 'exciting', '!']\n",
      "['It', 'is', 'called', 'corpus', '.']\n"
     ]
    }
   ],
   "execution_count": 33
  },
  {
   "metadata": {
    "ExecuteTime": {
     "end_time": "2025-02-21T21:09:01.148210Z",
     "start_time": "2025-02-21T21:09:01.146428Z"
    }
   },
   "cell_type": "code",
   "source": [
    "from nltk.tokenize import wordpunct_tokenize\n",
    "wordpunct_tokenize(corpus)"
   ],
   "id": "869097280c0fe896",
   "outputs": [
    {
     "data": {
      "text/plain": [
       "['This',\n",
       " 'a',\n",
       " 'paragraph',\n",
       " '.',\n",
       " 'But',\n",
       " ',',\n",
       " 'it',\n",
       " 'is',\n",
       " 'exciting',\n",
       " '!',\n",
       " 'It',\n",
       " 'is',\n",
       " 'called',\n",
       " 'corpus',\n",
       " '.']"
      ]
     },
     "execution_count": 34,
     "metadata": {},
     "output_type": "execute_result"
    }
   ],
   "execution_count": 34
  },
  {
   "metadata": {
    "ExecuteTime": {
     "end_time": "2025-02-21T21:09:01.158449Z",
     "start_time": "2025-02-21T21:09:01.156680Z"
    }
   },
   "cell_type": "code",
   "source": [
    "from nltk.tokenize import TreebankWordTokenizer\n",
    "tree_bank_tokenizer = TreebankWordTokenizer()\n",
    "tree_bank_tokenizer.tokenize(corpus)"
   ],
   "id": "54a29afbb1b6ea4a",
   "outputs": [
    {
     "data": {
      "text/plain": [
       "['This',\n",
       " 'a',\n",
       " 'paragraph.',\n",
       " 'But',\n",
       " ',',\n",
       " 'it',\n",
       " 'is',\n",
       " 'exciting',\n",
       " '!',\n",
       " 'It',\n",
       " 'is',\n",
       " 'called',\n",
       " 'corpus',\n",
       " '.']"
      ]
     },
     "execution_count": 35,
     "metadata": {},
     "output_type": "execute_result"
    }
   ],
   "execution_count": 35
  }
 ],
 "metadata": {
  "kernelspec": {
   "display_name": "Python 3",
   "language": "python",
   "name": "python3"
  },
  "language_info": {
   "codemirror_mode": {
    "name": "ipython",
    "version": 2
   },
   "file_extension": ".py",
   "mimetype": "text/x-python",
   "name": "python",
   "nbconvert_exporter": "python",
   "pygments_lexer": "ipython2",
   "version": "2.7.6"
  }
 },
 "nbformat": 4,
 "nbformat_minor": 5
}
