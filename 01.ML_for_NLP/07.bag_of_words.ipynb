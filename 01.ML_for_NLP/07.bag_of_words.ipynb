{
 "cells": [
  {
   "cell_type": "code",
   "execution_count": 15,
   "metadata": {},
   "outputs": [],
   "source": [
    "import nltk\n",
    "from nltk.tokenize import word_tokenize\n",
    "from nltk.corpus import stopwords\n",
    "from collections import Counter\n"
   ]
  },
  {
   "cell_type": "code",
   "execution_count": 16,
   "metadata": {},
   "outputs": [
    {
     "name": "stderr",
     "output_type": "stream",
     "text": [
      "[nltk_data] Downloading package punkt to /Users/hisl/nltk_data...\n",
      "[nltk_data]   Package punkt is already up-to-date!\n",
      "[nltk_data] Downloading package stopwords to /Users/hisl/nltk_data...\n",
      "[nltk_data]   Package stopwords is already up-to-date!\n"
     ]
    },
    {
     "data": {
      "text/plain": [
       "True"
      ]
     },
     "execution_count": 16,
     "metadata": {},
     "output_type": "execute_result"
    }
   ],
   "source": [
    "nltk.download('punkt')\n",
    "nltk.download('stopwords')"
   ]
  },
  {
   "cell_type": "code",
   "execution_count": 17,
   "metadata": {},
   "outputs": [],
   "source": [
    "text = \"Bag of Words is a technique for extracting features from text data for machine learning tasks, such as text classification and sentiment analysis.\"\n",
    "\n",
    "tokens = word_tokenize(text.lower())\n",
    "stop_words = set(stopwords.words('english'))\n",
    "filtered_tokens = [word for word in tokens if word.isalpha() and word not in stop_words]\n"
   ]
  },
  {
   "cell_type": "code",
   "execution_count": 18,
   "metadata": {},
   "outputs": [
    {
     "name": "stdout",
     "output_type": "stream",
     "text": [
      "Bag of Words:\n",
      "text: 2\n",
      "bag: 1\n",
      "words: 1\n",
      "technique: 1\n",
      "extracting: 1\n",
      "features: 1\n",
      "data: 1\n",
      "machine: 1\n",
      "learning: 1\n",
      "tasks: 1\n",
      "classification: 1\n",
      "sentiment: 1\n",
      "analysis: 1\n"
     ]
    }
   ],
   "source": [
    "bow = Counter(filtered_tokens)\n",
    "print(\"Bag of Words:\")\n",
    "for word, count in bow.most_common():\n",
    "    print(f\"{word}: {count}\")\n"
   ]
  },
  {
   "cell_type": "code",
   "execution_count": 19,
   "metadata": {},
   "outputs": [
    {
     "name": "stdout",
     "output_type": "stream",
     "text": [
      "Document 1 BoW:\n",
      "Counter({'bag': 1, 'words': 1, 'technique': 1})\n",
      "Document 2 BoW:\n",
      "Counter()\n",
      "Document 3 BoW:\n",
      "Counter({'machine': 1, 'learning': 1, 'bag': 1, 'words': 1})\n"
     ]
    }
   ],
   "source": [
    "# Create vocabulary\n",
    "vocab = set(filtered_tokens)\n",
    "\n",
    "# Function to create BoW vector\n",
    "def create_bow_vector(text, vocab):\n",
    "    tokens = word_tokenize(text.lower())\n",
    "    filtered = [word for word in tokens if word.isalpha() and word not in stop_words]\n",
    "    return Counter(word for word in filtered if word in vocab)\n",
    "\n",
    "# Example usage with multiple documents\n",
    "documents = [\n",
    "    \"Bag of Words is a simple technique.\",\n",
    "    \"It is used in natural language processing.\",\n",
    "    \"Machine learning often uses Bag of Words.\"\n",
    "]\n",
    "\n",
    "bow_vectors = [create_bow_vector(doc, vocab) for doc in documents]\n",
    "\n",
    "for i, vec in enumerate(bow_vectors):\n",
    "    print(f\"Document {i+1} BoW:\")\n",
    "    print(vec)\n"
   ]
  },
  {
   "cell_type": "markdown",
   "metadata": {},
   "source": [
    "## Create Bag Of Words"
   ]
  },
  {
   "cell_type": "code",
   "execution_count": 20,
   "metadata": {},
   "outputs": [],
   "source": [
    "## Create the Bag OF Words model\n",
    "from sklearn.feature_extraction.text import CountVectorizer\n",
    "## for Binary BOW enable binary=True\n",
    "cv=CountVectorizer(max_features=100,binary=True)"
   ]
  },
  {
   "cell_type": "code",
   "execution_count": 21,
   "metadata": {},
   "outputs": [],
   "source": [
    "X=cv.fit_transform(documents).toarray()"
   ]
  },
  {
   "cell_type": "code",
   "execution_count": 22,
   "metadata": {},
   "outputs": [],
   "source": [
    "import numpy as np\n",
    "np.set_printoptions(edgeitems=30, linewidth=100000, \n",
    "    formatter=dict(float=lambda x: \"%.3g\" % x))"
   ]
  },
  {
   "cell_type": "markdown",
   "metadata": {},
   "source": [
    "### N-Grams"
   ]
  },
  {
   "cell_type": "code",
   "execution_count": 23,
   "metadata": {},
   "outputs": [
    {
     "data": {
      "text/plain": [
       "{'bag': np.int64(0),\n",
       " 'of': np.int64(8),\n",
       " 'words': np.int64(15),\n",
       " 'is': np.int64(2),\n",
       " 'simple': np.int64(11),\n",
       " 'technique': np.int64(12),\n",
       " 'it': np.int64(3),\n",
       " 'used': np.int64(13),\n",
       " 'in': np.int64(1),\n",
       " 'natural': np.int64(7),\n",
       " 'language': np.int64(4),\n",
       " 'processing': np.int64(10),\n",
       " 'machine': np.int64(6),\n",
       " 'learning': np.int64(5),\n",
       " 'often': np.int64(9),\n",
       " 'uses': np.int64(14)}"
      ]
     },
     "execution_count": 23,
     "metadata": {},
     "output_type": "execute_result"
    }
   ],
   "source": [
    "cv.vocabulary_"
   ]
  },
  {
   "cell_type": "code",
   "execution_count": 24,
   "metadata": {},
   "outputs": [],
   "source": [
    "## Create the Bag OF Words model with ngram\n",
    "from sklearn.feature_extraction.text import CountVectorizer\n",
    "## for Binary BOW enable binary=True\n",
    "cv=CountVectorizer(max_features=100,binary=True,ngram_range=(2,3))\n",
    "X=cv.fit_transform(documents).toarray()"
   ]
  },
  {
   "cell_type": "code",
   "execution_count": 25,
   "metadata": {},
   "outputs": [
    {
     "data": {
      "text/plain": [
       "{'bag of': np.int64(0),\n",
       " 'of words': np.int64(17),\n",
       " 'words is': np.int64(26),\n",
       " 'is simple': np.int64(4),\n",
       " 'simple technique': np.int64(21),\n",
       " 'bag of words': np.int64(1),\n",
       " 'of words is': np.int64(18),\n",
       " 'words is simple': np.int64(27),\n",
       " 'is simple technique': np.int64(5),\n",
       " 'it is': np.int64(8),\n",
       " 'is used': np.int64(6),\n",
       " 'used in': np.int64(22),\n",
       " 'in natural': np.int64(2),\n",
       " 'natural language': np.int64(15),\n",
       " 'language processing': np.int64(10),\n",
       " 'it is used': np.int64(9),\n",
       " 'is used in': np.int64(7),\n",
       " 'used in natural': np.int64(23),\n",
       " 'in natural language': np.int64(3),\n",
       " 'natural language processing': np.int64(16),\n",
       " 'machine learning': np.int64(13),\n",
       " 'learning often': np.int64(11),\n",
       " 'often uses': np.int64(19),\n",
       " 'uses bag': np.int64(24),\n",
       " 'machine learning often': np.int64(14),\n",
       " 'learning often uses': np.int64(12),\n",
       " 'often uses bag': np.int64(20),\n",
       " 'uses bag of': np.int64(25)}"
      ]
     },
     "execution_count": 25,
     "metadata": {},
     "output_type": "execute_result"
    }
   ],
   "source": [
    "cv.vocabulary_"
   ]
  },
  {
   "cell_type": "code",
   "execution_count": 26,
   "metadata": {},
   "outputs": [
    {
     "data": {
      "text/plain": [
       "array([[1, 1, 0, 0, 1, 1, 0, 0, 0, 0, 0, 0, 0, 0, 0, 0, 0, 1, 1, 0, 0, 1, 0, 0, 0, 0, 1, 1],\n",
       "       [0, 0, 1, 1, 0, 0, 1, 1, 1, 1, 1, 0, 0, 0, 0, 1, 1, 0, 0, 0, 0, 0, 1, 1, 0, 0, 0, 0],\n",
       "       [1, 1, 0, 0, 0, 0, 0, 0, 0, 0, 0, 1, 1, 1, 1, 0, 0, 1, 0, 1, 1, 0, 0, 0, 1, 1, 0, 0]])"
      ]
     },
     "execution_count": 26,
     "metadata": {},
     "output_type": "execute_result"
    }
   ],
   "source": [
    "X"
   ]
  }
 ],
 "metadata": {
  "kernelspec": {
   "display_name": "Python 3 (ipykernel)",
   "language": "python",
   "name": "python3"
  },
  "language_info": {
   "codemirror_mode": {
    "name": "ipython",
    "version": 3
   },
   "file_extension": ".py",
   "mimetype": "text/x-python",
   "name": "python",
   "nbconvert_exporter": "python",
   "pygments_lexer": "ipython3",
   "version": "3.12.9"
  }
 },
 "nbformat": 4,
 "nbformat_minor": 4
}
